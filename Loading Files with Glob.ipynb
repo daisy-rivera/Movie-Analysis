{
 "cells": [
  {
   "cell_type": "markdown",
   "id": "73fbcdce",
   "metadata": {},
   "source": [
    "# Using Glob to Load Files"
   ]
  },
  {
   "cell_type": "markdown",
   "id": "34002d6c",
   "metadata": {},
   "source": [
    "### Import Libraries"
   ]
  },
  {
   "cell_type": "code",
   "execution_count": null,
   "id": "9ae88825",
   "metadata": {},
   "outputs": [],
   "source": [
    "import pandas as pd\n",
    "import glob"
   ]
  },
  {
   "cell_type": "code",
   "execution_count": null,
   "id": "8050884e",
   "metadata": {},
   "outputs": [],
   "source": [
    "#create a list of the files sorted\n",
    "q = \"Data/final_movies*.csv.gz\" ## change to file name and add * to represent any nuumber of other characters in the search query\n",
    "chunked_files = sorted(glob.glob(q))\n",
    "# Showing the first 5 \n",
    "chunked_files[:5]"
   ]
  },
  {
   "cell_type": "markdown",
   "id": "650bd09f",
   "metadata": {},
   "source": [
    "### Combining Many Files"
   ]
  },
  {
   "cell_type": "code",
   "execution_count": null,
   "id": "e3d459fc",
   "metadata": {},
   "outputs": [],
   "source": [
    "## Loading and Concatenating the list of dfs with 1 line\n",
    "df_combined = pd.concat([pd.read_csv(file, index_col=0) for file in chunked_files])\n",
    "df_combined"
   ]
  },
  {
   "cell_type": "code",
   "execution_count": null,
   "id": "cb04f4dd",
   "metadata": {},
   "outputs": [],
   "source": [
    "## Saving the final combined dataframe\n",
    "final_fname ='Data/FINAL_COMBINED_MOVIES.csv.gz'\n",
    "df_combined.to_csv(final_fname, compression='gzip', index=False)"
   ]
  },
  {
   "cell_type": "code",
   "execution_count": null,
   "id": "2325f97a",
   "metadata": {},
   "outputs": [],
   "source": [
    "#uploading final combined file to verify\n",
    "final_movies_df = pd.read_csv(final_fname)\n",
    "final_movies_df.head(3)"
   ]
  },
  {
   "cell_type": "code",
   "execution_count": null,
   "id": "161e843d",
   "metadata": {},
   "outputs": [],
   "source": [
    "final_movies_df.info()"
   ]
  }
 ],
 "metadata": {
  "kernelspec": {
   "display_name": "Python 3 (ipykernel)",
   "language": "python",
   "name": "python3"
  },
  "language_info": {
   "codemirror_mode": {
    "name": "ipython",
    "version": 3
   },
   "file_extension": ".py",
   "mimetype": "text/x-python",
   "name": "python",
   "nbconvert_exporter": "python",
   "pygments_lexer": "ipython3",
   "version": "3.9.15"
  },
  "toc": {
   "base_numbering": 1,
   "nav_menu": {},
   "number_sections": false,
   "sideBar": true,
   "skip_h1_title": false,
   "title_cell": "Table of Contents",
   "title_sidebar": "Contents",
   "toc_cell": false,
   "toc_position": {},
   "toc_section_display": true,
   "toc_window_display": false
  }
 },
 "nbformat": 4,
 "nbformat_minor": 5
}
