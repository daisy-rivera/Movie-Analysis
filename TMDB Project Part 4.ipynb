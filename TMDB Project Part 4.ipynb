{
 "cells": [
  {
   "cell_type": "markdown",
   "id": "26959729",
   "metadata": {},
   "source": [
    "# TMDB Project Part 4"
   ]
  },
  {
   "cell_type": "markdown",
   "id": "ef28b524",
   "metadata": {},
   "source": [
    "Part 4\n",
    "For part 4 of the project, you will be using your MySQL database from part 3 to answer meaningful questions for your stakeholder. They want you to use your hypothesis testing and statistics knowledge to answer 3 questions about what makes a successful movie.\n",
    "- Questions to Answer\n",
    "1. The stakeholder's first question is: does the MPAA rating of a movie (G/PG/PG-13/R) affect how much revenue the movie generates?\n",
    "\n",
    "- They want you to perform a statistical test to get a mathematically-supported answer.\n",
    "- They want you to report if you found a significant difference between ratings.\n",
    "- If so, what was the p-value of your analysis?\n",
    "- And which rating earns the most revenue?\n",
    "- They want you to prepare a visualization that supports your finding.\n",
    "2. It is then up to you to think of 2 additional hypotheses to test that your stakeholder may want to know.\n",
    "\n",
    "Some example hypotheses you could test:\n",
    "\n",
    "- Do movies that are over 2.5 hours long earn more revenue than movies that are 1.5 hours long (or less)?\n",
    "- Do movies released in 2020 earn less revenue than movies released in 2018?\n",
    "- How do the years compare for movie ratings?\n",
    "- Do some movie genres earn more revenue than others?\n",
    "- Are some genres higher rated than others?\n",
    "- etc.\n",
    "\n",
    "Your Data\n",
    "1. A critical first step for this assignment will be to retrieve additional movie data to add to your SQL database.\n",
    "- You will want to use the TMDB API again and extract data for additional years.\n",
    "- You may want to review the optional lesson from Week 1 on \"Using glob to Load Many Files\" to load and combine all of your API results for each year.\n",
    "- However, trying to extract the TMDB data for all movies from 2000-2022 could take >24 hours!\n",
    "\n",
    "To address this issue, you should EITHER:\n",
    "- Define a smaller (but logical) period of time to use for your analyses (e.g. last 10 years, 2010-2019 (pre-pandemic, etc).\n",
    "- OR coordinate with cohort-mates and divide the API calls so that you can all download the data for a smaller number of years and then share your downloaded JSON data.\n",
    "\n",
    "\n",
    "Deliverables\n",
    "\n",
    "- You should use the same project repository you have been using for Parts 1-3 (for your portfolio).\n",
    "- Create a new notebook in your project repository just for the hypothesis testing (like \"Part 4 - Hypothesis Testing.ipynb\")\n",
    "- Make sure the results and visualization for all 3 hypotheses are in your notebook.\n",
    "- Please submit the link to your GitHub repository for this assignmen"
   ]
  },
  {
   "cell_type": "markdown",
   "id": "3ecbc152",
   "metadata": {},
   "source": [
    "## Hypthesis Testing"
   ]
  },
  {
   "cell_type": "markdown",
   "id": "c9fae143",
   "metadata": {},
   "source": [
    "### State the Hypothesis & Null Hypothesis"
   ]
  },
  {
   "cell_type": "markdown",
   "id": "9f9ae643",
   "metadata": {},
   "source": [
    "- $H_0$ Null Hypothesis: There is no significant difference between the sales of discounted products vs. non-discounted products.\n",
    "\n",
    "-  $H_1$ Alternate hypothesis: There are higher sales in discounted products vs non-discounted products.\n",
    "\n",
    "- Alpha Level - We are using an alpha level of 0.05."
   ]
  },
  {
   "cell_type": "markdown",
   "id": "34c478a1",
   "metadata": {},
   "source": [
    "### Test of Choice\n",
    "We will be using a Independent T-Test since we are comparing numeric data (sales) for 2-samples (discount vs no discount).\n",
    "- Assumptions to Meet\n",
    "  - No significant outliers\n",
    "  - Normality\n",
    "  - Equal Variance"
   ]
  },
  {
   "cell_type": "code",
   "execution_count": null,
   "id": "2e6911d6",
   "metadata": {},
   "outputs": [],
   "source": []
  }
 ],
 "metadata": {
  "kernelspec": {
   "display_name": "Python 3 (ipykernel)",
   "language": "python",
   "name": "python3"
  },
  "language_info": {
   "codemirror_mode": {
    "name": "ipython",
    "version": 3
   },
   "file_extension": ".py",
   "mimetype": "text/x-python",
   "name": "python",
   "nbconvert_exporter": "python",
   "pygments_lexer": "ipython3",
   "version": "3.9.15"
  },
  "toc": {
   "base_numbering": 1,
   "nav_menu": {},
   "number_sections": false,
   "sideBar": true,
   "skip_h1_title": false,
   "title_cell": "Table of Contents",
   "title_sidebar": "Contents",
   "toc_cell": false,
   "toc_position": {},
   "toc_section_display": true,
   "toc_window_display": false
  }
 },
 "nbformat": 4,
 "nbformat_minor": 5
}
